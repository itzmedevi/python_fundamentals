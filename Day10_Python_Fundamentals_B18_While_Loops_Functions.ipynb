{
 "cells": [
  {
   "cell_type": "code",
   "execution_count": null,
   "metadata": {},
   "outputs": [],
   "source": [
    "## -- While Loops -- ##"
   ]
  },
  {
   "cell_type": "code",
   "execution_count": 1,
   "metadata": {},
   "outputs": [
    {
     "name": "stdout",
     "output_type": "stream",
     "text": [
      "1\n",
      "2\n",
      "3\n",
      "4\n",
      "5\n"
     ]
    }
   ],
   "source": [
    "number =1\n",
    "\n",
    "while number <=5:\n",
    "    print(number)\n",
    "    number +=1"
   ]
  },
  {
   "cell_type": "code",
   "execution_count": null,
   "metadata": {},
   "outputs": [],
   "source": []
  },
  {
   "cell_type": "code",
   "execution_count": null,
   "metadata": {},
   "outputs": [],
   "source": [
    "## -- Using Else in While -- ##"
   ]
  },
  {
   "cell_type": "code",
   "execution_count": 15,
   "metadata": {},
   "outputs": [
    {
     "name": "stdout",
     "output_type": "stream",
     "text": [
      "1\n",
      "2\n",
      "3\n",
      "4\n",
      "5\n",
      "6\n",
      "\n",
      "Number 7 is greater than 6\n"
     ]
    }
   ],
   "source": [
    "number =1\n",
    "\n",
    "while number <=6:\n",
    "    print(number)\n",
    "    number +=1\n",
    "\n",
    "else:\n",
    "    print(f\"\\nNumber {number} is greater than 6\")"
   ]
  },
  {
   "cell_type": "code",
   "execution_count": null,
   "metadata": {},
   "outputs": [],
   "source": []
  },
  {
   "cell_type": "code",
   "execution_count": null,
   "metadata": {},
   "outputs": [],
   "source": [
    "## -- Using User Inputs in While Loop -- ##"
   ]
  },
  {
   "cell_type": "code",
   "execution_count": 133,
   "metadata": {},
   "outputs": [],
   "source": [
    "msg = '\\nEnter number: '\n",
    "msg_1 = '\\nDo you want to exit, \"y\" or \"n\": '"
   ]
  },
  {
   "cell_type": "code",
   "execution_count": 137,
   "metadata": {},
   "outputs": [
    {
     "name": "stdout",
     "output_type": "stream",
     "text": [
      "\n",
      "Enter number: 7\n",
      "8\n",
      "9\n",
      "10\n",
      "\n",
      "Iteration only till 10\n",
      "\n",
      "Do you want to exit, \"y\" or \"n\": n\n",
      "\n",
      "Enter number: 4\n",
      "5\n",
      "6\n",
      "7\n",
      "8\n",
      "9\n",
      "10\n",
      "\n",
      "Iteration only till 10\n",
      "\n",
      "Do you want to exit, \"y\" or \"n\": y\n"
     ]
    }
   ],
   "source": [
    "while True:\n",
    "    num= int(input(msg))\n",
    "    if num > 10:\n",
    "        print(\"\\nEnter number less than or equal to 10\")\n",
    "        break\n",
    "    else :\n",
    "        while True:\n",
    "            num +=1\n",
    "            if num <= 10:\n",
    "                print(num)\n",
    "            else:\n",
    "                break\n",
    "        print(\"\\nIteration only till 10\")\n",
    "        prom=input(msg_1)\n",
    "        if prom == 'y':\n",
    "            break\n",
    "        else:\n",
    "            continue"
   ]
  },
  {
   "cell_type": "code",
   "execution_count": 140,
   "metadata": {},
   "outputs": [
    {
     "name": "stdout",
     "output_type": "stream",
     "text": [
      "\n",
      "Enter number: 55\n",
      "\n",
      "Enter number less than or equal to 10\n"
     ]
    }
   ],
   "source": [
    "while True:\n",
    "    num= int(input(msg))\n",
    "    if num > 10:\n",
    "        print(\"\\nEnter number less than or equal to 10\")\n",
    "        break\n",
    "    else :\n",
    "        while True:\n",
    "            num +=1\n",
    "            if num <= 10:\n",
    "                print(num)\n",
    "            else:\n",
    "                break\n",
    "        print(\"\\nIteration only till 10\")\n",
    "        prom=input(msg_1)\n",
    "        if prom == 'y':\n",
    "            break\n",
    "        else:\n",
    "            continue"
   ]
  },
  {
   "cell_type": "code",
   "execution_count": null,
   "metadata": {},
   "outputs": [],
   "source": []
  },
  {
   "cell_type": "code",
   "execution_count": null,
   "metadata": {},
   "outputs": [],
   "source": []
  },
  {
   "cell_type": "code",
   "execution_count": null,
   "metadata": {},
   "outputs": [],
   "source": [
    "## -- Introduction to Functions -- ##"
   ]
  },
  {
   "cell_type": "code",
   "execution_count": 141,
   "metadata": {},
   "outputs": [],
   "source": [
    "def msg():\n",
    "    \"\"\"printing the msg to user\"\"\"\n",
    "    print(\"Welcome back\")"
   ]
  },
  {
   "cell_type": "code",
   "execution_count": 142,
   "metadata": {},
   "outputs": [
    {
     "name": "stdout",
     "output_type": "stream",
     "text": [
      "Welcome back\n"
     ]
    }
   ],
   "source": [
    "msg()"
   ]
  },
  {
   "cell_type": "code",
   "execution_count": 143,
   "metadata": {},
   "outputs": [],
   "source": [
    "def msg():\n",
    "    \"printing the msg to user\"\n",
    "    print(\"Welcome back\")"
   ]
  },
  {
   "cell_type": "code",
   "execution_count": 144,
   "metadata": {},
   "outputs": [
    {
     "name": "stdout",
     "output_type": "stream",
     "text": [
      "Welcome back\n"
     ]
    }
   ],
   "source": [
    "msg()"
   ]
  },
  {
   "cell_type": "code",
   "execution_count": null,
   "metadata": {},
   "outputs": [],
   "source": []
  },
  {
   "cell_type": "code",
   "execution_count": 151,
   "metadata": {},
   "outputs": [],
   "source": [
    "def fav_city(city_name):\n",
    "    \"\"\"Print the fav city\"\"\"\n",
    "    print(city_name + \" is my fav city\")"
   ]
  },
  {
   "cell_type": "code",
   "execution_count": 152,
   "metadata": {},
   "outputs": [
    {
     "name": "stdout",
     "output_type": "stream",
     "text": [
      "chn is my fav city\n"
     ]
    }
   ],
   "source": [
    "fav_city('chn')"
   ]
  },
  {
   "cell_type": "code",
   "execution_count": 156,
   "metadata": {},
   "outputs": [],
   "source": [
    "def fav_city(city_name):\n",
    "    \"\"\"Print the fav city\"\"\"\n",
    "    print(f\"{city_name} is my fav city\")"
   ]
  },
  {
   "cell_type": "code",
   "execution_count": 157,
   "metadata": {},
   "outputs": [
    {
     "name": "stdout",
     "output_type": "stream",
     "text": [
      "chn is my fav city\n"
     ]
    }
   ],
   "source": [
    "fav_city('chn')"
   ]
  },
  {
   "cell_type": "code",
   "execution_count": 158,
   "metadata": {},
   "outputs": [],
   "source": [
    "def fav_city(city_name):\n",
    "    \"\"\"Print the fav city\"\"\"\n",
    "    print(\"My fav city is \" + city_name)"
   ]
  },
  {
   "cell_type": "code",
   "execution_count": 161,
   "metadata": {},
   "outputs": [
    {
     "name": "stdout",
     "output_type": "stream",
     "text": [
      "My fav city is chn\n"
     ]
    }
   ],
   "source": [
    "fav_city('chn')"
   ]
  },
  {
   "cell_type": "code",
   "execution_count": null,
   "metadata": {},
   "outputs": [],
   "source": []
  }
 ],
 "metadata": {
  "kernelspec": {
   "display_name": "Python 3",
   "language": "python",
   "name": "python3"
  },
  "language_info": {
   "codemirror_mode": {
    "name": "ipython",
    "version": 3
   },
   "file_extension": ".py",
   "mimetype": "text/x-python",
   "name": "python",
   "nbconvert_exporter": "python",
   "pygments_lexer": "ipython3",
   "version": "3.7.6"
  }
 },
 "nbformat": 4,
 "nbformat_minor": 4
}
