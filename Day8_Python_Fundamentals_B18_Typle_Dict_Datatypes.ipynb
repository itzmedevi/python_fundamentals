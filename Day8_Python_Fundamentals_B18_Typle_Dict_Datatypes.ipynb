{
 "cells": [
  {
   "cell_type": "code",
   "execution_count": null,
   "metadata": {},
   "outputs": [],
   "source": [
    "## -- Tuple Datatype -- ##"
   ]
  },
  {
   "cell_type": "code",
   "execution_count": null,
   "metadata": {},
   "outputs": [],
   "source": [
    "## Tuple is immutable, its values cannot be chagned, has to be defined again to alter or modify its values ##"
   ]
  },
  {
   "cell_type": "code",
   "execution_count": 30,
   "metadata": {},
   "outputs": [],
   "source": [
    "student = (\"Alex\",1001,[100,99,95])"
   ]
  },
  {
   "cell_type": "code",
   "execution_count": 26,
   "metadata": {},
   "outputs": [
    {
     "data": {
      "text/plain": [
       "tuple"
      ]
     },
     "execution_count": 26,
     "metadata": {},
     "output_type": "execute_result"
    }
   ],
   "source": [
    "type(student)"
   ]
  },
  {
   "cell_type": "code",
   "execution_count": 31,
   "metadata": {},
   "outputs": [],
   "source": [
    "name,rollno, marks = student"
   ]
  },
  {
   "cell_type": "code",
   "execution_count": 35,
   "metadata": {},
   "outputs": [
    {
     "name": "stdout",
     "output_type": "stream",
     "text": [
      "Name: Alex\n",
      "RollNo: 1001\n",
      "Marks: [100, 99, 95]\n"
     ]
    }
   ],
   "source": [
    "print(f\"Name:\",name);\n",
    "print(f\"RollNo:\",rollno);\n",
    "print(f\"Marks:\",marks)"
   ]
  },
  {
   "cell_type": "code",
   "execution_count": 32,
   "metadata": {},
   "outputs": [
    {
     "data": {
      "text/plain": [
       "str"
      ]
     },
     "execution_count": 32,
     "metadata": {},
     "output_type": "execute_result"
    }
   ],
   "source": [
    "type(name)"
   ]
  },
  {
   "cell_type": "code",
   "execution_count": 33,
   "metadata": {},
   "outputs": [
    {
     "data": {
      "text/plain": [
       "int"
      ]
     },
     "execution_count": 33,
     "metadata": {},
     "output_type": "execute_result"
    }
   ],
   "source": [
    "type(rollno)"
   ]
  },
  {
   "cell_type": "code",
   "execution_count": 34,
   "metadata": {},
   "outputs": [
    {
     "data": {
      "text/plain": [
       "list"
      ]
     },
     "execution_count": 34,
     "metadata": {},
     "output_type": "execute_result"
    }
   ],
   "source": [
    "type(marks)"
   ]
  },
  {
   "cell_type": "code",
   "execution_count": null,
   "metadata": {},
   "outputs": [],
   "source": []
  },
  {
   "cell_type": "code",
   "execution_count": 44,
   "metadata": {},
   "outputs": [
    {
     "ename": "TypeError",
     "evalue": "'tuple' object does not support item assignment",
     "output_type": "error",
     "traceback": [
      "\u001b[0;31m---------------------------------------------------------------------------\u001b[0m",
      "\u001b[0;31mTypeError\u001b[0m                                 Traceback (most recent call last)",
      "\u001b[0;32m<ipython-input-44-3f47ebaf5d9a>\u001b[0m in \u001b[0;36m<module>\u001b[0;34m\u001b[0m\n\u001b[0;32m----> 1\u001b[0;31m \u001b[0mstudent\u001b[0m\u001b[0;34m[\u001b[0m\u001b[0;36m1\u001b[0m\u001b[0;34m]\u001b[0m \u001b[0;34m=\u001b[0m \u001b[0;36m1002\u001b[0m\u001b[0;34m\u001b[0m\u001b[0;34m\u001b[0m\u001b[0m\n\u001b[0m",
      "\u001b[0;31mTypeError\u001b[0m: 'tuple' object does not support item assignment"
     ]
    }
   ],
   "source": [
    "student[1] = 1002 "
   ]
  },
  {
   "cell_type": "code",
   "execution_count": 36,
   "metadata": {},
   "outputs": [
    {
     "name": "stdout",
     "output_type": "stream",
     "text": [
      "Alex\n"
     ]
    }
   ],
   "source": [
    "print(student[0])"
   ]
  },
  {
   "cell_type": "code",
   "execution_count": 37,
   "metadata": {},
   "outputs": [
    {
     "name": "stdout",
     "output_type": "stream",
     "text": [
      "1001\n"
     ]
    }
   ],
   "source": [
    "print(student[1])"
   ]
  },
  {
   "cell_type": "code",
   "execution_count": 38,
   "metadata": {},
   "outputs": [
    {
     "name": "stdout",
     "output_type": "stream",
     "text": [
      "[100, 99, 95]\n"
     ]
    }
   ],
   "source": [
    "print(student[2])"
   ]
  },
  {
   "cell_type": "code",
   "execution_count": null,
   "metadata": {},
   "outputs": [],
   "source": []
  },
  {
   "cell_type": "code",
   "execution_count": 39,
   "metadata": {},
   "outputs": [
    {
     "ename": "AttributeError",
     "evalue": "'tuple' object has no attribute 'reverse'",
     "output_type": "error",
     "traceback": [
      "\u001b[0;31m---------------------------------------------------------------------------\u001b[0m",
      "\u001b[0;31mAttributeError\u001b[0m                            Traceback (most recent call last)",
      "\u001b[0;32m<ipython-input-39-dd6e0e39136f>\u001b[0m in \u001b[0;36m<module>\u001b[0;34m\u001b[0m\n\u001b[0;32m----> 1\u001b[0;31m \u001b[0mstudent\u001b[0m\u001b[0;34m.\u001b[0m\u001b[0mreverse\u001b[0m\u001b[0;34m(\u001b[0m\u001b[0;34m)\u001b[0m\u001b[0;34m\u001b[0m\u001b[0;34m\u001b[0m\u001b[0m\n\u001b[0m\u001b[1;32m      2\u001b[0m \u001b[0;34m\u001b[0m\u001b[0m\n\u001b[1;32m      3\u001b[0m \u001b[0mprint\u001b[0m\u001b[0;34m(\u001b[0m\u001b[0mstudent\u001b[0m\u001b[0;34m)\u001b[0m\u001b[0;34m\u001b[0m\u001b[0;34m\u001b[0m\u001b[0m\n",
      "\u001b[0;31mAttributeError\u001b[0m: 'tuple' object has no attribute 'reverse'"
     ]
    }
   ],
   "source": [
    "student.reverse()\n",
    "\n",
    "print(student)"
   ]
  },
  {
   "cell_type": "code",
   "execution_count": 43,
   "metadata": {},
   "outputs": [
    {
     "name": "stdout",
     "output_type": "stream",
     "text": [
      "([100, 99, 95], 1001, 'Alex')\n",
      "Alex\n"
     ]
    }
   ],
   "source": [
    "print(student[::-1])\n",
    "\n",
    "print(name)"
   ]
  },
  {
   "cell_type": "code",
   "execution_count": null,
   "metadata": {},
   "outputs": [],
   "source": []
  },
  {
   "cell_type": "code",
   "execution_count": 69,
   "metadata": {},
   "outputs": [],
   "source": [
    "student_1 = (1001,'Amanda',[100,98,90,95,100])\n",
    "student_2 = (1002,'Antony',[90,89,100,99,100])\n",
    "student_3 = (1003,'Bobby',[80,98,96,99,100])\n",
    "\n",
    "student_list = [student_1,student_2,student_3]"
   ]
  },
  {
   "cell_type": "code",
   "execution_count": 92,
   "metadata": {},
   "outputs": [
    {
     "name": "stdout",
     "output_type": "stream",
     "text": [
      "Student 1\n",
      "=========\n",
      "RollNo: 1001\n",
      "Name: Amanda\n",
      "Marks: [100, 98, 90, 95, 100]\n",
      "\n",
      "\n",
      "Student 2\n",
      "=========\n",
      "RollNo: 1002\n",
      "Name: Antony\n",
      "Marks: [90, 89, 100, 99, 100]\n",
      "\n",
      "\n",
      "Student 3\n",
      "=========\n",
      "RollNo: 1003\n",
      "Name: Bobby\n",
      "Marks: [80, 98, 96, 99, 100]\n",
      "\n",
      "\n"
     ]
    }
   ],
   "source": [
    "i=0\n",
    "\n",
    "for stud_tup in student_list:\n",
    "    \n",
    "    rollno,name,marks=stud_tup\n",
    "    i=i+1\n",
    "    print(f\"Student {i}\")\n",
    "    print(\"=========\")\n",
    "    print(f\"RollNo:\",rollno)\n",
    "    print(f\"Name:\",name)\n",
    "    print(f\"Marks:\",marks)  \n",
    "    print(f\"\\n\") \n"
   ]
  },
  {
   "cell_type": "code",
   "execution_count": null,
   "metadata": {},
   "outputs": [],
   "source": []
  },
  {
   "cell_type": "code",
   "execution_count": null,
   "metadata": {},
   "outputs": [],
   "source": [
    "## -- Dictionary Data Type -- ##"
   ]
  },
  {
   "cell_type": "code",
   "execution_count": null,
   "metadata": {},
   "outputs": [],
   "source": [
    "## -- dict is mutable, values can be changed. Stores values as KEY:VALUE pairs -- ##"
   ]
  },
  {
   "cell_type": "code",
   "execution_count": null,
   "metadata": {},
   "outputs": [],
   "source": []
  },
  {
   "cell_type": "code",
   "execution_count": 116,
   "metadata": {},
   "outputs": [
    {
     "name": "stdout",
     "output_type": "stream",
     "text": [
      "{'Name': 'Alex', 'Roll_No': 1001, 'Marks': [100, 99, 95]}\n"
     ]
    }
   ],
   "source": [
    "student_1 = {'Name':\"Alex\",'Roll_No':1001,'Marks':[100,99,95]}\n",
    "\n",
    "print(student_1)"
   ]
  },
  {
   "cell_type": "code",
   "execution_count": 97,
   "metadata": {},
   "outputs": [
    {
     "data": {
      "text/plain": [
       "dict"
      ]
     },
     "execution_count": 97,
     "metadata": {},
     "output_type": "execute_result"
    }
   ],
   "source": [
    "type(student_1)"
   ]
  },
  {
   "cell_type": "code",
   "execution_count": null,
   "metadata": {},
   "outputs": [],
   "source": []
  },
  {
   "cell_type": "code",
   "execution_count": 101,
   "metadata": {},
   "outputs": [
    {
     "name": "stdout",
     "output_type": "stream",
     "text": [
      "{'Name': 'Alex', 'Roll_No': 1001, 'Marks': [100, 99, 95], 'Grade': 'A++'}\n"
     ]
    }
   ],
   "source": [
    "student_1['Grade']='A++'\n",
    "\n",
    "print(student_1)"
   ]
  },
  {
   "cell_type": "code",
   "execution_count": 127,
   "metadata": {},
   "outputs": [
    {
     "name": "stdout",
     "output_type": "stream",
     "text": [
      "{'Roll_No': 1001, 'Name': 'Amanda', 'Marks': [100, 99, 95, 98, 100], 'Grade': 'B++', 'Level': 'High'}\n"
     ]
    }
   ],
   "source": [
    "student_1['Grade']='B++'\n",
    "student_1['Level']='High'\n",
    "\n",
    "print(student_1)"
   ]
  },
  {
   "cell_type": "code",
   "execution_count": 106,
   "metadata": {},
   "outputs": [
    {
     "ename": "AttributeError",
     "evalue": "'dict' object has no attribute 'append'",
     "output_type": "error",
     "traceback": [
      "\u001b[0;31m---------------------------------------------------------------------------\u001b[0m",
      "\u001b[0;31mAttributeError\u001b[0m                            Traceback (most recent call last)",
      "\u001b[0;32m<ipython-input-106-74240ff8b7cc>\u001b[0m in \u001b[0;36m<module>\u001b[0;34m\u001b[0m\n\u001b[0;32m----> 1\u001b[0;31m \u001b[0mstudent_1\u001b[0m\u001b[0;34m.\u001b[0m\u001b[0mappend\u001b[0m\u001b[0;34m(\u001b[0m\u001b[0;34m'Section'\u001b[0m\u001b[0;34m)\u001b[0m\u001b[0;34m\u001b[0m\u001b[0;34m\u001b[0m\u001b[0m\n\u001b[0m\u001b[1;32m      2\u001b[0m \u001b[0;34m\u001b[0m\u001b[0m\n\u001b[1;32m      3\u001b[0m \u001b[0mprint\u001b[0m\u001b[0;34m(\u001b[0m\u001b[0mstudent_1\u001b[0m\u001b[0;34m)\u001b[0m\u001b[0;34m\u001b[0m\u001b[0;34m\u001b[0m\u001b[0m\n",
      "\u001b[0;31mAttributeError\u001b[0m: 'dict' object has no attribute 'append'"
     ]
    }
   ],
   "source": [
    "student_1.append('Section')\n",
    "\n",
    "print(student_1)"
   ]
  },
  {
   "cell_type": "code",
   "execution_count": null,
   "metadata": {},
   "outputs": [],
   "source": []
  },
  {
   "cell_type": "code",
   "execution_count": 103,
   "metadata": {},
   "outputs": [
    {
     "data": {
      "text/plain": [
       "{'Name': 'Alex', 'Roll_No': 1001, 'Marks': [100, 99, 95]}"
      ]
     },
     "execution_count": 103,
     "metadata": {},
     "output_type": "execute_result"
    }
   ],
   "source": [
    "dict(Name=\"Alex\",Roll_No=1001,Marks=[100,99,95])"
   ]
  },
  {
   "cell_type": "code",
   "execution_count": null,
   "metadata": {},
   "outputs": [],
   "source": []
  },
  {
   "cell_type": "code",
   "execution_count": null,
   "metadata": {},
   "outputs": [],
   "source": [
    "## -- Access / retrive values -- ##"
   ]
  },
  {
   "cell_type": "code",
   "execution_count": 109,
   "metadata": {},
   "outputs": [
    {
     "name": "stdout",
     "output_type": "stream",
     "text": [
      "Alex\n"
     ]
    }
   ],
   "source": [
    "print(student_1['Name'])"
   ]
  },
  {
   "cell_type": "code",
   "execution_count": 110,
   "metadata": {},
   "outputs": [
    {
     "name": "stdout",
     "output_type": "stream",
     "text": [
      "[100, 99, 95]\n"
     ]
    }
   ],
   "source": [
    "print(student_1['Marks'])"
   ]
  },
  {
   "cell_type": "code",
   "execution_count": null,
   "metadata": {},
   "outputs": [],
   "source": []
  },
  {
   "cell_type": "code",
   "execution_count": null,
   "metadata": {},
   "outputs": [],
   "source": [
    "## -- Reassign values -- ##"
   ]
  },
  {
   "cell_type": "code",
   "execution_count": 128,
   "metadata": {},
   "outputs": [
    {
     "name": "stdout",
     "output_type": "stream",
     "text": [
      "{'Roll_No': 1001, 'Name': 'Amanda', 'Marks': [100, 99, 95, 98, 100], 'Grade': 'B++', 'Level': 'High'}\n"
     ]
    }
   ],
   "source": [
    "student_1['Marks']=[100, 99, 95,98,100]\n",
    "\n",
    "print(student_1)"
   ]
  },
  {
   "cell_type": "code",
   "execution_count": null,
   "metadata": {},
   "outputs": [],
   "source": []
  },
  {
   "cell_type": "code",
   "execution_count": null,
   "metadata": {},
   "outputs": [],
   "source": [
    "## -- Keys can be used to access Values -- ##"
   ]
  },
  {
   "cell_type": "code",
   "execution_count": 113,
   "metadata": {},
   "outputs": [
    {
     "name": "stdout",
     "output_type": "stream",
     "text": [
      "1001\n"
     ]
    }
   ],
   "source": [
    "print(student_1['Roll_No'])"
   ]
  },
  {
   "cell_type": "code",
   "execution_count": null,
   "metadata": {},
   "outputs": [],
   "source": []
  },
  {
   "cell_type": "code",
   "execution_count": null,
   "metadata": {},
   "outputs": [],
   "source": [
    "## -- Values can not be used to access Keys -- ##"
   ]
  },
  {
   "cell_type": "code",
   "execution_count": 114,
   "metadata": {},
   "outputs": [
    {
     "ename": "KeyError",
     "evalue": "'A++'",
     "output_type": "error",
     "traceback": [
      "\u001b[0;31m---------------------------------------------------------------------------\u001b[0m",
      "\u001b[0;31mKeyError\u001b[0m                                  Traceback (most recent call last)",
      "\u001b[0;32m<ipython-input-114-ae4e60734f2d>\u001b[0m in \u001b[0;36m<module>\u001b[0;34m\u001b[0m\n\u001b[0;32m----> 1\u001b[0;31m \u001b[0mprint\u001b[0m\u001b[0;34m(\u001b[0m\u001b[0mstudent_1\u001b[0m\u001b[0;34m[\u001b[0m\u001b[0;34m'A++'\u001b[0m\u001b[0;34m]\u001b[0m\u001b[0;34m)\u001b[0m\u001b[0;34m\u001b[0m\u001b[0;34m\u001b[0m\u001b[0m\n\u001b[0m",
      "\u001b[0;31mKeyError\u001b[0m: 'A++'"
     ]
    }
   ],
   "source": [
    "print(student_1['A++'])"
   ]
  },
  {
   "cell_type": "code",
   "execution_count": null,
   "metadata": {},
   "outputs": [],
   "source": []
  },
  {
   "cell_type": "code",
   "execution_count": 174,
   "metadata": {},
   "outputs": [
    {
     "name": "stdout",
     "output_type": "stream",
     "text": [
      "{'Roll_No': 1001, 'Name': 'Amanda', 'Marks': [100, 98, 90, 95, 100]}\n",
      "{'Roll_No': 1002, 'Name': 'Antony', 'Marks': [90, 89, 100, 99, 100]}\n",
      "{'Roll_No': 1003, 'Name': 'Bobby', 'Marks': [80, 98, 96, 99, 100]}\n"
     ]
    }
   ],
   "source": [
    "student_1 = {'Roll_No':1001,'Name':'Amanda','Marks':[100,98,90,95,100]}\n",
    "student_2 = {'Roll_No':1002,'Name':'Antony','Marks':[90,89,100,99,100]}\n",
    "student_3 = {'Roll_No':1003,'Name':'Bobby','Marks':[80,98,96,99,100]}\n",
    "\n",
    "print(student_1)\n",
    "print(student_2)\n",
    "print(student_3)\n",
    "\n",
    "student_list_dict = [student_1,student_2,student_3]"
   ]
  },
  {
   "cell_type": "code",
   "execution_count": null,
   "metadata": {},
   "outputs": [],
   "source": [
    "## student_1['Grade']='A++'\n",
    "## student_2['Grade']='A'\n",
    "## student_3['Grade']='A++'\n",
    "\n",
    "## print(student_1)\n",
    "# print(student_2)\n",
    "# print(student_3)\n",
    "\n",
    "# print(student_list_dict)"
   ]
  },
  {
   "cell_type": "code",
   "execution_count": 178,
   "metadata": {},
   "outputs": [
    {
     "name": "stdout",
     "output_type": "stream",
     "text": [
      "[{'Roll_No': 1001, 'Name': 'Amanda', 'Marks': [100, 98, 90, 95, 100], 'Grade': 'A++'}, {'Roll_No': 1002, 'Name': 'Antony', 'Marks': [90, 89, 100, 99, 100], 'Grade': 'A'}, {'Roll_No': 1003, 'Name': 'Bobby', 'Marks': [80, 98, 96, 99, 100], 'Grade': 'A++'}]\n"
     ]
    },
    {
     "data": {
      "text/plain": [
       "list"
      ]
     },
     "execution_count": 178,
     "metadata": {},
     "output_type": "execute_result"
    }
   ],
   "source": [
    "student_list_dict[0]['Grade']='A++' ##-- equal to  --> student_1['Grade']='A++' -- ##\n",
    "student_list_dict[1]['Grade']='A'\n",
    "student_list_dict[2]['Grade']='A++'\n",
    "\n",
    "# student_list[0]['Level']='High'\n",
    "# student_list[2]['Level']='High'\n",
    "# print(student_list)\n",
    "\n",
    "print(student_list_dict)\n",
    "\n",
    "type(student_list_dict)"
   ]
  },
  {
   "cell_type": "code",
   "execution_count": 180,
   "metadata": {},
   "outputs": [
    {
     "data": {
      "text/plain": [
       "['Roll_No', 'Name', 'Marks', 'Grade']"
      ]
     },
     "execution_count": 180,
     "metadata": {},
     "output_type": "execute_result"
    }
   ],
   "source": [
    "list(student_list_dict[0])"
   ]
  },
  {
   "cell_type": "code",
   "execution_count": 181,
   "metadata": {},
   "outputs": [
    {
     "name": "stdout",
     "output_type": "stream",
     "text": [
      "Student 1\n",
      "=========\n",
      "RollNo: 1001\n",
      "Name: Amanda\n",
      "Marks: [100, 98, 90, 95, 100]\n",
      "Grade: A++\n",
      "\n",
      "\n",
      "Student 2\n",
      "=========\n",
      "RollNo: 1002\n",
      "Name: Antony\n",
      "Marks: [90, 89, 100, 99, 100]\n",
      "Grade: A\n",
      "\n",
      "\n",
      "Student 3\n",
      "=========\n",
      "RollNo: 1003\n",
      "Name: Bobby\n",
      "Marks: [80, 98, 96, 99, 100]\n",
      "Grade: A++\n",
      "\n",
      "\n"
     ]
    }
   ],
   "source": [
    "i=0\n",
    "\n",
    "for stud_dict in student_list_dict:\n",
    "    \n",
    "    rollno,name,marks,grade=stud_dict\n",
    "    i=i+1\n",
    "    print(f\"Student {i}\")\n",
    "    print(\"=========\")\n",
    "    print(f\"RollNo:\",stud_dict['Roll_No'])\n",
    "    print(f\"Name:\",stud_dict['Name'])\n",
    "    print(f\"Marks:\",stud_dict['Marks'])\n",
    "    print(f\"Grade:\",stud_dict['Grade'])\n",
    "    print(f\"\\n\") "
   ]
  }
 ],
 "metadata": {
  "kernelspec": {
   "display_name": "Python 3",
   "language": "python",
   "name": "python3"
  },
  "language_info": {
   "codemirror_mode": {
    "name": "ipython",
    "version": 3
   },
   "file_extension": ".py",
   "mimetype": "text/x-python",
   "name": "python",
   "nbconvert_exporter": "python",
   "pygments_lexer": "ipython3",
   "version": "3.7.6"
  }
 },
 "nbformat": 4,
 "nbformat_minor": 4
}
