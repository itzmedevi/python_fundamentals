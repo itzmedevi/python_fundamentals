{
 "cells": [
  {
   "cell_type": "code",
   "execution_count": null,
   "metadata": {},
   "outputs": [],
   "source": [
    "## -- FOR loop -- ##"
   ]
  },
  {
   "cell_type": "code",
   "execution_count": 54,
   "metadata": {},
   "outputs": [
    {
     "name": "stdout",
     "output_type": "stream",
     "text": [
      "['chennai', 'delhi', 'mumbai', 'hyderabad', 'bangalore', 'calicut']\n"
     ]
    }
   ],
   "source": [
    "our_city = ['chennai','delhi','mumbai','hyderabad','bangalore','calicut']\n",
    "\n",
    "print(our_city)"
   ]
  },
  {
   "cell_type": "code",
   "execution_count": 22,
   "metadata": {},
   "outputs": [
    {
     "name": "stdout",
     "output_type": "stream",
     "text": [
      "Welcome to chennai\n"
     ]
    }
   ],
   "source": [
    "print(f\"Welcome to {our_city[0]}\")"
   ]
  },
  {
   "cell_type": "code",
   "execution_count": 23,
   "metadata": {},
   "outputs": [
    {
     "name": "stdout",
     "output_type": "stream",
     "text": [
      "Welcome to Chennai\n"
     ]
    }
   ],
   "source": [
    "print(f\"Welcome to {our_city[0].title()}\")"
   ]
  },
  {
   "cell_type": "code",
   "execution_count": null,
   "metadata": {},
   "outputs": [],
   "source": []
  },
  {
   "cell_type": "code",
   "execution_count": null,
   "metadata": {},
   "outputs": [],
   "source": [
    "## -- FOR Syntax -- ##"
   ]
  },
  {
   "cell_type": "code",
   "execution_count": null,
   "metadata": {},
   "outputs": [],
   "source": [
    "for tempvar in mainvar: ## -- Syntax -- ##\n",
    "    \n",
    "    print(tempvar)"
   ]
  },
  {
   "cell_type": "code",
   "execution_count": null,
   "metadata": {},
   "outputs": [],
   "source": []
  },
  {
   "cell_type": "code",
   "execution_count": null,
   "metadata": {},
   "outputs": [],
   "source": [
    "## -- FOR loop Implementaton -- ##"
   ]
  },
  {
   "cell_type": "code",
   "execution_count": 24,
   "metadata": {},
   "outputs": [
    {
     "name": "stdout",
     "output_type": "stream",
     "text": [
      "chennai\n",
      "delhi\n",
      "mumbai\n",
      "hyderabad\n",
      "bangalore\n",
      "calicut\n"
     ]
    }
   ],
   "source": [
    "for x in our_city:\n",
    "    print(x)"
   ]
  },
  {
   "cell_type": "code",
   "execution_count": null,
   "metadata": {},
   "outputs": [],
   "source": [
    "## -- Enhancement of code within FOR loop -- ##"
   ]
  },
  {
   "cell_type": "code",
   "execution_count": 25,
   "metadata": {},
   "outputs": [
    {
     "name": "stdout",
     "output_type": "stream",
     "text": [
      "Welcome to chennai\n",
      "Welcome to delhi\n",
      "Welcome to mumbai\n",
      "Welcome to hyderabad\n",
      "Welcome to bangalore\n",
      "Welcome to calicut\n"
     ]
    }
   ],
   "source": [
    "for x in our_city:\n",
    "    print(f\"Welcome to {x}\")"
   ]
  },
  {
   "cell_type": "code",
   "execution_count": null,
   "metadata": {},
   "outputs": [],
   "source": []
  },
  {
   "cell_type": "code",
   "execution_count": 47,
   "metadata": {},
   "outputs": [
    {
     "name": "stdout",
     "output_type": "stream",
     "text": [
      "Welcome to Chennai\n",
      "Welcome to Delhi\n",
      "Welcome to Mumbai\n",
      "Welcome to Hyderabad\n",
      "Welcome to Bangalore\n",
      "Welcome to Calicut\n"
     ]
    }
   ],
   "source": [
    "for x in our_city:\n",
    "    print(f\"Welcome to {x.title()}\")"
   ]
  },
  {
   "cell_type": "code",
   "execution_count": null,
   "metadata": {},
   "outputs": [],
   "source": []
  },
  {
   "cell_type": "code",
   "execution_count": 74,
   "metadata": {
    "scrolled": true
   },
   "outputs": [
    {
     "name": "stdout",
     "output_type": "stream",
     "text": [
      "Welcome to Chennai\n",
      "Enjoyr your stay in Chennai\n",
      "Welcome to Delhi\n",
      "Enjoyr your stay in Delhi\n",
      "Welcome to Mumbai\n",
      "Enjoyr your stay in Mumbai\n",
      "Welcome to Hyderabad\n",
      "Enjoyr your stay in Hyderabad\n",
      "Welcome to Bangalore\n",
      "Enjoyr your stay in Bangalore\n",
      "Welcome to Calicut\n",
      "Enjoyr your stay in Calicut\n"
     ]
    }
   ],
   "source": [
    "for x in our_city:\n",
    "    print(f\"Welcome to {x.title()}\")\n",
    "    print(f\"Enjoyr your stay in {x.title()}\")"
   ]
  },
  {
   "cell_type": "code",
   "execution_count": null,
   "metadata": {},
   "outputs": [],
   "source": []
  },
  {
   "cell_type": "code",
   "execution_count": null,
   "metadata": {},
   "outputs": [],
   "source": [
    "## -- Enhancement with new line delimite -- ##"
   ]
  },
  {
   "cell_type": "code",
   "execution_count": 79,
   "metadata": {},
   "outputs": [
    {
     "name": "stdout",
     "output_type": "stream",
     "text": [
      "Welcome to Chennai,\n",
      "Enjoy your stay in Chennai.\n",
      "\n",
      "Welcome to Delhi,\n",
      "Enjoy your stay in Delhi.\n",
      "\n",
      "Welcome to Mumbai,\n",
      "Enjoy your stay in Mumbai.\n",
      "\n",
      "Welcome to Hyderabad,\n",
      "Enjoy your stay in Hyderabad.\n",
      "\n",
      "Welcome to Bangalore,\n",
      "Enjoy your stay in Bangalore.\n",
      "\n",
      "Welcome to Calicut,\n",
      "Enjoy your stay in Calicut.\n",
      "\n"
     ]
    }
   ],
   "source": [
    "for x in our_city:\n",
    "    print(f\"Welcome to {x.title()},\")\n",
    "    print(f\"Enjoy your stay in {x.title()}.\\n\")"
   ]
  },
  {
   "cell_type": "code",
   "execution_count": null,
   "metadata": {},
   "outputs": [],
   "source": []
  },
  {
   "cell_type": "code",
   "execution_count": null,
   "metadata": {},
   "outputs": [],
   "source": [
    "## -- Enhancement with sort funtions -- ##"
   ]
  },
  {
   "cell_type": "code",
   "execution_count": 80,
   "metadata": {},
   "outputs": [
    {
     "name": "stdout",
     "output_type": "stream",
     "text": [
      "Welcome to Bangalore,\n",
      "Enjoy your stay in Bangalore.\n",
      "\n",
      "Welcome to Calicut,\n",
      "Enjoy your stay in Calicut.\n",
      "\n",
      "Welcome to Chennai,\n",
      "Enjoy your stay in Chennai.\n",
      "\n",
      "Welcome to Delhi,\n",
      "Enjoy your stay in Delhi.\n",
      "\n",
      "Welcome to Hyderabad,\n",
      "Enjoy your stay in Hyderabad.\n",
      "\n",
      "Welcome to Mumbai,\n",
      "Enjoy your stay in Mumbai.\n",
      "\n"
     ]
    }
   ],
   "source": [
    "city = sorted(our_city)\n",
    "\n",
    "for x in city:\n",
    "    print(f\"Welcome to {x.title()},\")\n",
    "    print(f\"Enjoy your stay in {x.title()}.\\n\")"
   ]
  },
  {
   "cell_type": "code",
   "execution_count": null,
   "metadata": {},
   "outputs": [],
   "source": []
  },
  {
   "cell_type": "code",
   "execution_count": 81,
   "metadata": {},
   "outputs": [
    {
     "name": "stdout",
     "output_type": "stream",
     "text": [
      "Welcome to Bangalore\n",
      "Welcome to Calicut\n",
      "Welcome to Chennai\n",
      "Welcome to Delhi\n",
      "Welcome to Hyderabad\n",
      "Welcome to Mumbai\n"
     ]
    }
   ],
   "source": [
    "for x in city:\n",
    "    print(f\"Welcome to {x.title()}\")"
   ]
  },
  {
   "cell_type": "code",
   "execution_count": 82,
   "metadata": {},
   "outputs": [
    {
     "name": "stdout",
     "output_type": "stream",
     "text": [
      "['chennai', 'delhi', 'mumbai', 'hyderabad', 'bangalore', 'calicut']\n"
     ]
    }
   ],
   "source": [
    "print(our_city)"
   ]
  },
  {
   "cell_type": "code",
   "execution_count": 83,
   "metadata": {},
   "outputs": [
    {
     "name": "stdout",
     "output_type": "stream",
     "text": [
      "['bangalore', 'calicut', 'chennai', 'delhi', 'hyderabad', 'mumbai']\n"
     ]
    }
   ],
   "source": [
    "print(city)"
   ]
  },
  {
   "cell_type": "code",
   "execution_count": null,
   "metadata": {},
   "outputs": [],
   "source": []
  },
  {
   "cell_type": "code",
   "execution_count": null,
   "metadata": {},
   "outputs": [],
   "source": [
    "## -- IF ELSE condition statement -- ##"
   ]
  },
  {
   "cell_type": "code",
   "execution_count": null,
   "metadata": {},
   "outputs": [],
   "source": []
  },
  {
   "cell_type": "code",
   "execution_count": 87,
   "metadata": {},
   "outputs": [
    {
     "name": "stdout",
     "output_type": "stream",
     "text": [
      "Welcome to Bangalore\n",
      "\n",
      "Welcome to Calicut\n",
      "\n",
      "TN welcomes you to CHENNAI\n",
      "\n",
      "Welcome to Delhi\n",
      "\n",
      "Welcome to Hyderabad\n",
      "\n",
      "Welcome to Mumbai\n",
      "\n"
     ]
    }
   ],
   "source": [
    "for y in city:\n",
    "    if y == 'chennai':\n",
    "        print(f\"TN welcomes you to {y.upper()}\\n\")\n",
    "    else:\n",
    "        print(f\"Welcome to {y.title()}\\n\")"
   ]
  },
  {
   "cell_type": "code",
   "execution_count": null,
   "metadata": {},
   "outputs": [],
   "source": []
  },
  {
   "cell_type": "code",
   "execution_count": 88,
   "metadata": {},
   "outputs": [
    {
     "name": "stdout",
     "output_type": "stream",
     "text": [
      "TN welcomes you to CHENNAI\n",
      "\n",
      "Welcome to Delhi\n",
      "\n",
      "Welcome to Mumbai\n",
      "\n",
      "Welcome to Hyderabad\n",
      "\n",
      "Welcome to Bangalore\n",
      "\n",
      "Welcome to Calicut\n",
      "\n"
     ]
    }
   ],
   "source": [
    "for y in our_city:\n",
    "    if y == 'chennai':\n",
    "        print(f\"TN welcomes you to {y.upper()}\\n\")\n",
    "    else:\n",
    "        print(f\"Welcome to {y.title()}\\n\")"
   ]
  },
  {
   "cell_type": "code",
   "execution_count": null,
   "metadata": {},
   "outputs": [],
   "source": []
  }
 ],
 "metadata": {
  "kernelspec": {
   "display_name": "Python 3",
   "language": "python",
   "name": "python3"
  },
  "language_info": {
   "codemirror_mode": {
    "name": "ipython",
    "version": 3
   },
   "file_extension": ".py",
   "mimetype": "text/x-python",
   "name": "python",
   "nbconvert_exporter": "python",
   "pygments_lexer": "ipython3",
   "version": "3.7.6"
  }
 },
 "nbformat": 4,
 "nbformat_minor": 4
}
