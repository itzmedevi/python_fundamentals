{
 "cells": [
  {
   "cell_type": "code",
   "execution_count": null,
   "metadata": {},
   "outputs": [],
   "source": [
    "## --  Introduction to User Inputs -- ##"
   ]
  },
  {
   "cell_type": "code",
   "execution_count": 2,
   "metadata": {},
   "outputs": [
    {
     "name": "stdout",
     "output_type": "stream",
     "text": [
      "Please enter your name :Alex\n",
      "Alex\n"
     ]
    }
   ],
   "source": [
    "user_name = input(\"Please enter your name :\")\n",
    "\n",
    "print(user_name)"
   ]
  },
  {
   "cell_type": "code",
   "execution_count": null,
   "metadata": {},
   "outputs": [],
   "source": []
  },
  {
   "cell_type": "code",
   "execution_count": null,
   "metadata": {},
   "outputs": [],
   "source": [
    "## -- Code Enhancement -- ##"
   ]
  },
  {
   "cell_type": "code",
   "execution_count": 4,
   "metadata": {},
   "outputs": [
    {
     "name": "stdout",
     "output_type": "stream",
     "text": [
      "Please enter your name :Bobby\n",
      "User Bobby is not found\n"
     ]
    }
   ],
   "source": [
    "user_name = input(\"Please enter your name :\")\n",
    "\n",
    "print(f\"User {user_name} is not found\")"
   ]
  },
  {
   "cell_type": "code",
   "execution_count": null,
   "metadata": {},
   "outputs": [],
   "source": []
  },
  {
   "cell_type": "code",
   "execution_count": 45,
   "metadata": {},
   "outputs": [
    {
     "name": "stdout",
     "output_type": "stream",
     "text": [
      "Please enter your name :bobby\n",
      "\n",
      "User Bobby is not found\n",
      "\n",
      "Please try again Bobby\n"
     ]
    }
   ],
   "source": [
    "user_name = input(\"Please enter your name :\")\n",
    "\n",
    "print(f\"\\nUser {user_name.title()} is not found\")\n",
    "\n",
    "print(f\"\\nPlease try again {user_name.title()}\")"
   ]
  },
  {
   "cell_type": "code",
   "execution_count": null,
   "metadata": {},
   "outputs": [],
   "source": []
  },
  {
   "cell_type": "code",
   "execution_count": null,
   "metadata": {},
   "outputs": [],
   "source": [
    "## -- Input with int -- ##"
   ]
  },
  {
   "cell_type": "code",
   "execution_count": 34,
   "metadata": {},
   "outputs": [
    {
     "name": "stdout",
     "output_type": "stream",
     "text": [
      "Total number of users please :5\n",
      "5\n"
     ]
    }
   ],
   "source": [
    "num_users = input(\"Total number of users please :\")\n",
    "\n",
    "print(num_users)"
   ]
  },
  {
   "cell_type": "code",
   "execution_count": 35,
   "metadata": {},
   "outputs": [
    {
     "ename": "TypeError",
     "evalue": "'>' not supported between instances of 'str' and 'int'",
     "output_type": "error",
     "traceback": [
      "\u001b[0;31m---------------------------------------------------------------------------\u001b[0m",
      "\u001b[0;31mTypeError\u001b[0m                                 Traceback (most recent call last)",
      "\u001b[0;32m<ipython-input-35-cff354632487>\u001b[0m in \u001b[0;36m<module>\u001b[0;34m\u001b[0m\n\u001b[0;32m----> 1\u001b[0;31m \u001b[0mnum_users\u001b[0m \u001b[0;34m>\u001b[0m \u001b[0;36m10\u001b[0m\u001b[0;34m\u001b[0m\u001b[0;34m\u001b[0m\u001b[0m\n\u001b[0m",
      "\u001b[0;31mTypeError\u001b[0m: '>' not supported between instances of 'str' and 'int'"
     ]
    }
   ],
   "source": [
    "num_users > 10"
   ]
  },
  {
   "cell_type": "code",
   "execution_count": null,
   "metadata": {},
   "outputs": [],
   "source": []
  },
  {
   "cell_type": "code",
   "execution_count": null,
   "metadata": {},
   "outputs": [],
   "source": [
    "## -- Input will be treated as str evertime. Typecast to Interger for the execution -- ##"
   ]
  },
  {
   "cell_type": "code",
   "execution_count": 36,
   "metadata": {},
   "outputs": [
    {
     "data": {
      "text/plain": [
       "False"
      ]
     },
     "execution_count": 36,
     "metadata": {},
     "output_type": "execute_result"
    }
   ],
   "source": [
    "num_users = int(num_users)\n",
    "\n",
    "num_users > 10"
   ]
  },
  {
   "cell_type": "code",
   "execution_count": null,
   "metadata": {},
   "outputs": [],
   "source": []
  },
  {
   "cell_type": "code",
   "execution_count": 37,
   "metadata": {},
   "outputs": [
    {
     "name": "stdout",
     "output_type": "stream",
     "text": [
      "Total number of users please :20\n",
      "20\n"
     ]
    }
   ],
   "source": [
    "num_users = input(\"Total number of users please :\")\n",
    "\n",
    "print(num_users)"
   ]
  },
  {
   "cell_type": "code",
   "execution_count": 38,
   "metadata": {},
   "outputs": [
    {
     "data": {
      "text/plain": [
       "True"
      ]
     },
     "execution_count": 38,
     "metadata": {},
     "output_type": "execute_result"
    }
   ],
   "source": [
    "num_users = int(num_users)\n",
    "\n",
    "num_users > 10"
   ]
  },
  {
   "cell_type": "code",
   "execution_count": null,
   "metadata": {},
   "outputs": [],
   "source": []
  },
  {
   "cell_type": "code",
   "execution_count": null,
   "metadata": {},
   "outputs": [],
   "source": [
    "## -- Uploading files in a drive -- Example -- ##"
   ]
  },
  {
   "cell_type": "code",
   "execution_count": 59,
   "metadata": {},
   "outputs": [
    {
     "name": "stdout",
     "output_type": "stream",
     "text": [
      "Total number of files received: 30\n",
      "\n",
      "Maximum storage capacity reached.\n",
      "\n",
      "Please get the Premium access.\n"
     ]
    }
   ],
   "source": [
    "num_files = input(\"Total number of files received: \")\n",
    "num_files = int(num_files)\n",
    "\n",
    "if num_files >= 20:\n",
    "    print(\"\\nMaximum storage capacity reached.\")\n",
    "    print(\"\\nPlease get the Premium access.\")\n",
    "    \n",
    "else:\n",
    "    \n",
    "    print(\"\\nYou still have free space.\")\n",
    "    print(f\"\\nYou have uploaded only {num_files} files.\")\n",
    "    print(\"\\nUpload more files to use the storage.\")\n"
   ]
  },
  {
   "cell_type": "code",
   "execution_count": null,
   "metadata": {},
   "outputs": [],
   "source": []
  },
  {
   "cell_type": "code",
   "execution_count": 60,
   "metadata": {},
   "outputs": [
    {
     "name": "stdout",
     "output_type": "stream",
     "text": [
      "Total number of files received: 4\n",
      "\n",
      "You still have free space.\n",
      "\n",
      "You have uploaded only 4 files.\n",
      "\n",
      "Upload more files to use the storage.\n"
     ]
    }
   ],
   "source": [
    "num_files = input(\"Total number of files received: \")\n",
    "num_files = int(num_files)\n",
    "\n",
    "if num_files >= 20:\n",
    "    print(\"\\nMaximum storage capacity reached.\")\n",
    "    print(\"\\nPlease get the Premium access.\")\n",
    "    \n",
    "else:\n",
    "    \n",
    "    print(\"\\nYou still have free space.\")\n",
    "    print(f\"\\nYou have uploaded only {num_files} files.\")\n",
    "    print(\"\\nUpload more files to use the storage.\")"
   ]
  }
 ],
 "metadata": {
  "kernelspec": {
   "display_name": "Python 3",
   "language": "python",
   "name": "python3"
  },
  "language_info": {
   "codemirror_mode": {
    "name": "ipython",
    "version": 3
   },
   "file_extension": ".py",
   "mimetype": "text/x-python",
   "name": "python",
   "nbconvert_exporter": "python",
   "pygments_lexer": "ipython3",
   "version": "3.7.6"
  }
 },
 "nbformat": 4,
 "nbformat_minor": 4
}
