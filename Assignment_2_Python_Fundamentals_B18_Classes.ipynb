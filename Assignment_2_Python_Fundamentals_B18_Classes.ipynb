{
 "cells": [
  {
   "cell_type": "code",
   "execution_count": null,
   "metadata": {},
   "outputs": [],
   "source": [
    "## --  Class for a restaurant and its cuisine type -- ##"
   ]
  },
  {
   "cell_type": "code",
   "execution_count": 78,
   "metadata": {},
   "outputs": [],
   "source": [
    "class Restaurant:\n",
    "    \"\"\"A class to describe a restaurant\"\"\"\n",
    "    restaurant_name = 'Default Hotel'\n",
    "    cuisine_type = 'Default Cuisine'\n",
    "    \n",
    "    def __init__(self,name,type):\n",
    "        \"\"\"Initiallize the restaurant attributes\"\"\"\n",
    "        self.restaurant_name = name\n",
    "        self.cuisine_type = type\n",
    "    \n",
    "    def describe_restaurant(self):\n",
    "        \"\"\"Function for restaurant describtion\"\"\"\n",
    "        print(f\"\\nWelcome to {self.restaurant_name.title()}, We serve {self.cuisine_type.title()}\")\n",
    "        \n",
    "    def open_restaurant(self):\n",
    "        \"\"\"Funtion to specify the restaurant timing\"\"\"\n",
    "        print(f\"\\nOur service timing : 10 AM to 10 PM\")\n",
    "        print(f\"\\nWe are open now.\")"
   ]
  },
  {
   "cell_type": "code",
   "execution_count": null,
   "metadata": {},
   "outputs": [],
   "source": []
  },
  {
   "cell_type": "code",
   "execution_count": 79,
   "metadata": {},
   "outputs": [],
   "source": [
    "restaurant = Restaurant('olive garden','italian') "
   ]
  },
  {
   "cell_type": "code",
   "execution_count": 80,
   "metadata": {},
   "outputs": [
    {
     "name": "stdout",
     "output_type": "stream",
     "text": [
      "Olive Garden\n",
      "Italian\n"
     ]
    }
   ],
   "source": [
    "print(restaurant.restaurant_name.title())\n",
    "print(restaurant.cuisine_type.title())"
   ]
  },
  {
   "cell_type": "code",
   "execution_count": null,
   "metadata": {},
   "outputs": [],
   "source": []
  },
  {
   "cell_type": "code",
   "execution_count": 81,
   "metadata": {},
   "outputs": [
    {
     "name": "stdout",
     "output_type": "stream",
     "text": [
      "\n",
      "Welcome to Olive Garden, We serve Italian\n"
     ]
    }
   ],
   "source": [
    "restaurant.describe_restaurant()"
   ]
  },
  {
   "cell_type": "code",
   "execution_count": null,
   "metadata": {},
   "outputs": [],
   "source": []
  },
  {
   "cell_type": "code",
   "execution_count": 82,
   "metadata": {},
   "outputs": [
    {
     "name": "stdout",
     "output_type": "stream",
     "text": [
      "\n",
      "Our service timing : 10 AM to 10 PM\n",
      "\n",
      "We are open now.\n"
     ]
    }
   ],
   "source": [
    "restaurant.open_restaurant()"
   ]
  },
  {
   "cell_type": "code",
   "execution_count": null,
   "metadata": {},
   "outputs": [],
   "source": []
  },
  {
   "cell_type": "code",
   "execution_count": null,
   "metadata": {},
   "outputs": [],
   "source": []
  },
  {
   "cell_type": "code",
   "execution_count": 106,
   "metadata": {},
   "outputs": [],
   "source": [
    "class IceCreamStand(Restaurant):\n",
    "    \"\"\"Class for ice cream stand in the restaurant\"\"\"\n",
    "    \n",
    "    def __init__(self,name,type,flavours):\n",
    "        \"\"\"Initiallize the flavours attributes\"\"\"\n",
    "        super(IceCreamStand,self).__init__(name,type)\n",
    "        self.flavours = flavours\n",
    "        \n",
    "    def icecreamstand(self):\n",
    "        \"\"\"Function for icecream flavours describtion\"\"\"\n",
    "        print(f\"\\nWe serve {self.flavours}\")\n",
    "        \n",
    "    def describe_restaurant(self):\n",
    "        \"\"\"Function for IceCreamStand describtion\"\"\"\n",
    "        print(f\"\\nWelcome to {self.restaurant_name.title()}, We serve {self.cuisine_type.title()} with flavours : {self.flavours}\")\n"
   ]
  },
  {
   "cell_type": "code",
   "execution_count": null,
   "metadata": {},
   "outputs": [],
   "source": []
  },
  {
   "cell_type": "code",
   "execution_count": 107,
   "metadata": {},
   "outputs": [],
   "source": [
    "br_icecreams = IceCreamStand('Baskin & Robbins','IceCreams',['vanilla','chocolate','cookies n cream'])"
   ]
  },
  {
   "cell_type": "code",
   "execution_count": 108,
   "metadata": {},
   "outputs": [
    {
     "name": "stdout",
     "output_type": "stream",
     "text": [
      "\n",
      "We serve ['vanilla', 'chocolate', 'cookies n cream']\n"
     ]
    }
   ],
   "source": [
    "br_icecreams.icecreamstand()"
   ]
  },
  {
   "cell_type": "code",
   "execution_count": 109,
   "metadata": {},
   "outputs": [
    {
     "name": "stdout",
     "output_type": "stream",
     "text": [
      "\n",
      "Welcome to Baskin & Robbins, We serve Icecreams with flavours : ['vanilla', 'chocolate', 'cookies n cream']\n"
     ]
    }
   ],
   "source": [
    "br_icecreams.describe_restaurant()"
   ]
  },
  {
   "cell_type": "code",
   "execution_count": 110,
   "metadata": {},
   "outputs": [
    {
     "name": "stdout",
     "output_type": "stream",
     "text": [
      "\n",
      "Welcome to Baskin & Robbins, We serve Icecreams\n"
     ]
    }
   ],
   "source": [
    "super(IceCreamStand,br_icecreams).describe_restaurant()"
   ]
  },
  {
   "cell_type": "code",
   "execution_count": null,
   "metadata": {},
   "outputs": [],
   "source": []
  },
  {
   "cell_type": "code",
   "execution_count": null,
   "metadata": {},
   "outputs": [],
   "source": []
  }
 ],
 "metadata": {
  "kernelspec": {
   "display_name": "Python 3",
   "language": "python",
   "name": "python3"
  },
  "language_info": {
   "codemirror_mode": {
    "name": "ipython",
    "version": 3
   },
   "file_extension": ".py",
   "mimetype": "text/x-python",
   "name": "python",
   "nbconvert_exporter": "python",
   "pygments_lexer": "ipython3",
   "version": "3.7.6"
  }
 },
 "nbformat": 4,
 "nbformat_minor": 4
}
