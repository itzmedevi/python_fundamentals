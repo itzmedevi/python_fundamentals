{
 "cells": [
  {
   "cell_type": "code",
   "execution_count": null,
   "metadata": {},
   "outputs": [],
   "source": [
    "## -- Looping thorugh Dict -- ##"
   ]
  },
  {
   "cell_type": "code",
   "execution_count": 17,
   "metadata": {},
   "outputs": [
    {
     "name": "stdout",
     "output_type": "stream",
     "text": [
      "{'Roll_No': 1001, 'Name': 'Amanda', 'Marks': [100, 99, 95, 98, 100], 'Grade': 'B++', 'Level': 'High'}\n"
     ]
    }
   ],
   "source": [
    "student_1 = {'Roll_No': 1001, 'Name': 'Amanda', 'Marks': [100, 99, 95, 98, 100], 'Grade': 'B++', 'Level': 'High'}\n",
    "\n",
    "print(student_1)"
   ]
  },
  {
   "cell_type": "code",
   "execution_count": 64,
   "metadata": {},
   "outputs": [
    {
     "data": {
      "text/plain": [
       "1001"
      ]
     },
     "execution_count": 64,
     "metadata": {},
     "output_type": "execute_result"
    }
   ],
   "source": [
    "student_1['Roll_No']"
   ]
  },
  {
   "cell_type": "code",
   "execution_count": null,
   "metadata": {},
   "outputs": [],
   "source": []
  },
  {
   "cell_type": "code",
   "execution_count": null,
   "metadata": {},
   "outputs": [],
   "source": [
    "## -- FOR Loop in dict -- ##"
   ]
  },
  {
   "cell_type": "code",
   "execution_count": 3,
   "metadata": {},
   "outputs": [
    {
     "name": "stdout",
     "output_type": "stream",
     "text": [
      "Key: Roll_No\n",
      "Value: 1001\n",
      "Key: Name\n",
      "Value: Amanda\n",
      "Key: Marks\n",
      "Value: [100, 99, 95, 98, 100]\n",
      "Key: Grade\n",
      "Value: B++\n",
      "Key: Level\n",
      "Value: High\n"
     ]
    }
   ],
   "source": [
    "for x,y in student_1.items():\n",
    "    print(f\"Key: {x}\")\n",
    "    print(f\"Value: {y}\")"
   ]
  },
  {
   "cell_type": "code",
   "execution_count": 4,
   "metadata": {},
   "outputs": [
    {
     "name": "stdout",
     "output_type": "stream",
     "text": [
      "\n",
      "Key: Roll_No\n",
      "Value: 1001\n",
      "\n",
      "Key: Name\n",
      "Value: Amanda\n",
      "\n",
      "Key: Marks\n",
      "Value: [100, 99, 95, 98, 100]\n",
      "\n",
      "Key: Grade\n",
      "Value: B++\n",
      "\n",
      "Key: Level\n",
      "Value: High\n"
     ]
    }
   ],
   "source": [
    "for x,y in student_1.items():\n",
    "    print(f\"\\nKey: {x}\")\n",
    "    print(f\"Value: {y}\")"
   ]
  },
  {
   "cell_type": "code",
   "execution_count": null,
   "metadata": {},
   "outputs": [],
   "source": []
  },
  {
   "cell_type": "code",
   "execution_count": null,
   "metadata": {},
   "outputs": [],
   "source": [
    "## -- Get only Key -- ##"
   ]
  },
  {
   "cell_type": "code",
   "execution_count": 7,
   "metadata": {},
   "outputs": [
    {
     "name": "stdout",
     "output_type": "stream",
     "text": [
      "\n",
      "Key: Roll_No\n",
      "\n",
      "Key: Name\n",
      "\n",
      "Key: Marks\n",
      "\n",
      "Key: Grade\n",
      "\n",
      "Key: Level\n"
     ]
    }
   ],
   "source": [
    "for x in student_1.keys():\n",
    "    print(f\"\\nKey: {x}\")"
   ]
  },
  {
   "cell_type": "code",
   "execution_count": null,
   "metadata": {},
   "outputs": [],
   "source": []
  },
  {
   "cell_type": "code",
   "execution_count": null,
   "metadata": {},
   "outputs": [],
   "source": [
    "## -- Get only Values -- ##"
   ]
  },
  {
   "cell_type": "code",
   "execution_count": 11,
   "metadata": {},
   "outputs": [
    {
     "name": "stdout",
     "output_type": "stream",
     "text": [
      "\n",
      "Value: 1001\n",
      "\n",
      "Value: Amanda\n",
      "\n",
      "Value: [100, 99, 95, 98, 100]\n",
      "\n",
      "Value: B++\n",
      "\n",
      "Value: High\n"
     ]
    }
   ],
   "source": [
    "for y in student_1.values():\n",
    "    print(f\"\\nValue: {y}\")"
   ]
  },
  {
   "cell_type": "code",
   "execution_count": null,
   "metadata": {},
   "outputs": [],
   "source": []
  },
  {
   "cell_type": "code",
   "execution_count": 12,
   "metadata": {},
   "outputs": [
    {
     "data": {
      "text/plain": [
       "dict_items"
      ]
     },
     "execution_count": 12,
     "metadata": {},
     "output_type": "execute_result"
    }
   ],
   "source": [
    "type(student_1.items())"
   ]
  },
  {
   "cell_type": "code",
   "execution_count": 13,
   "metadata": {},
   "outputs": [
    {
     "data": {
      "text/plain": [
       "dict_keys"
      ]
     },
     "execution_count": 13,
     "metadata": {},
     "output_type": "execute_result"
    }
   ],
   "source": [
    "type(student_1.keys())"
   ]
  },
  {
   "cell_type": "code",
   "execution_count": 14,
   "metadata": {},
   "outputs": [
    {
     "data": {
      "text/plain": [
       "dict_values"
      ]
     },
     "execution_count": 14,
     "metadata": {},
     "output_type": "execute_result"
    }
   ],
   "source": [
    "type(student_1.values())"
   ]
  },
  {
   "cell_type": "code",
   "execution_count": null,
   "metadata": {},
   "outputs": [],
   "source": []
  },
  {
   "cell_type": "code",
   "execution_count": 35,
   "metadata": {},
   "outputs": [
    {
     "name": "stdout",
     "output_type": "stream",
     "text": [
      "{'Name1': 'Alex', 'Name2': 'Bobby', 'Name3': 'Cathy'}\n"
     ]
    }
   ],
   "source": [
    "students = {'Name1':'Alex','Name2':'Bobby','Name3':'Cathy'}\n",
    "\n",
    "print(students)"
   ]
  },
  {
   "cell_type": "code",
   "execution_count": 27,
   "metadata": {},
   "outputs": [
    {
     "data": {
      "text/plain": [
       "dict"
      ]
     },
     "execution_count": 27,
     "metadata": {},
     "output_type": "execute_result"
    }
   ],
   "source": [
    "type(students)"
   ]
  },
  {
   "cell_type": "code",
   "execution_count": 36,
   "metadata": {},
   "outputs": [
    {
     "name": "stdout",
     "output_type": "stream",
     "text": [
      "student1 : Name1 is Alex\n",
      "student2 : Name2 is Bobby\n",
      "student3 : Name3 is Cathy\n"
     ]
    }
   ],
   "source": [
    "i=0\n",
    "for x,y in students.items():\n",
    "    i=i+1\n",
    "    print(f\"student{i} : {x.title()} is {y}\")"
   ]
  },
  {
   "cell_type": "code",
   "execution_count": null,
   "metadata": {},
   "outputs": [],
   "source": []
  },
  {
   "cell_type": "code",
   "execution_count": null,
   "metadata": {},
   "outputs": [],
   "source": []
  },
  {
   "cell_type": "code",
   "execution_count": 67,
   "metadata": {},
   "outputs": [
    {
     "name": "stdout",
     "output_type": "stream",
     "text": [
      "{'Roll_No': 1001, 'Name': 'Amanda', 'Marks': [100, 98, 90, 95, 100]}\n",
      "{'Roll_No': 1002, 'Name': 'Antony', 'Marks': [90, 89, 100, 99, 100]}\n",
      "{'Roll_No': 1003, 'Name': 'Bobby', 'Marks': [80, 98, 96, 99, 100]}\n"
     ]
    },
    {
     "data": {
      "text/plain": [
       "list"
      ]
     },
     "execution_count": 67,
     "metadata": {},
     "output_type": "execute_result"
    }
   ],
   "source": [
    "trainee_1 = {'Roll_No':1001,'Name':'Amanda','Marks':[100,98,90,95,100]}\n",
    "trainee_2 = {'Roll_No':1002,'Name':'Antony','Marks':[90,89,100,99,100]}\n",
    "trainee_3 = {'Roll_No':1003,'Name':'Bobby','Marks':[80,98,96,99,100]}\n",
    "\n",
    "print(trainee_1)\n",
    "print(trainee_2)\n",
    "print(trainee_3)\n",
    "\n",
    "trainee_list = [trainee_1,trainee_2,trainee_3]\n",
    "\n",
    "type(trainee_list)"
   ]
  },
  {
   "cell_type": "code",
   "execution_count": 68,
   "metadata": {},
   "outputs": [
    {
     "data": {
      "text/plain": [
       "1001"
      ]
     },
     "execution_count": 68,
     "metadata": {},
     "output_type": "execute_result"
    }
   ],
   "source": [
    "trainee_1['Roll_No']"
   ]
  },
  {
   "cell_type": "code",
   "execution_count": null,
   "metadata": {},
   "outputs": [],
   "source": []
  },
  {
   "cell_type": "code",
   "execution_count": 48,
   "metadata": {},
   "outputs": [
    {
     "name": "stdout",
     "output_type": "stream",
     "text": [
      "\n",
      "Trainee_1\n",
      "=========\n",
      "Roll_No: 1001\n",
      "Name: Amanda\n",
      "Marks: [100, 98, 90, 95, 100]\n",
      "\n",
      "Trainee_2\n",
      "=========\n",
      "Roll_No: 1002\n",
      "Name: Antony\n",
      "Marks: [90, 89, 100, 99, 100]\n",
      "\n",
      "Trainee_3\n",
      "=========\n",
      "Roll_No: 1003\n",
      "Name: Bobby\n",
      "Marks: [80, 98, 96, 99, 100]\n"
     ]
    }
   ],
   "source": [
    "i=0\n",
    "\n",
    "for trainee in trainee_list:\n",
    "    i=i+1\n",
    "    print(f\"\\nTrainee_{i}\")\n",
    "    print(\"=========\")\n",
    "    for key,value in trainee.items():\n",
    "        print(f\"{key}: {value}\")"
   ]
  },
  {
   "cell_type": "code",
   "execution_count": null,
   "metadata": {},
   "outputs": [],
   "source": []
  },
  {
   "cell_type": "code",
   "execution_count": 71,
   "metadata": {},
   "outputs": [
    {
     "name": "stdout",
     "output_type": "stream",
     "text": [
      "\n",
      "Trainee_1\n",
      "=========\n",
      "Roll_No :1001\n",
      "Name :Amanda\n",
      "Marks :[100, 98, 90, 95, 100]\n",
      "\n",
      "Trainee_2\n",
      "=========\n",
      "Roll_No :1002\n",
      "Name :Antony\n",
      "Marks :[90, 89, 100, 99, 100]\n",
      "\n",
      "Trainee_3\n",
      "=========\n",
      "Roll_No :1003\n",
      "Name :Bobby\n",
      "Marks :[80, 98, 96, 99, 100]\n"
     ]
    }
   ],
   "source": [
    "i=0\n",
    "for trainee in trainee_list:\n",
    "    i=i+1\n",
    "    print(f\"\\nTrainee_{i}\")\n",
    "    print(\"=========\")\n",
    "    for x in trainee:\n",
    "        print(f\"{x} :{trainee[x]}\")"
   ]
  }
 ],
 "metadata": {
  "kernelspec": {
   "display_name": "Python 3",
   "language": "python",
   "name": "python3"
  },
  "language_info": {
   "codemirror_mode": {
    "name": "ipython",
    "version": 3
   },
   "file_extension": ".py",
   "mimetype": "text/x-python",
   "name": "python",
   "nbconvert_exporter": "python",
   "pygments_lexer": "ipython3",
   "version": "3.7.6"
  }
 },
 "nbformat": 4,
 "nbformat_minor": 4
}
