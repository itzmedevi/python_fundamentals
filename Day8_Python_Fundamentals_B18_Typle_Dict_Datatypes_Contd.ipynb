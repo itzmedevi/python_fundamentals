{
 "cells": [
  {
   "cell_type": "code",
   "execution_count": null,
   "metadata": {},
   "outputs": [],
   "source": [
    " ## -- Adding key values in tuple -- ##"
   ]
  },
  {
   "cell_type": "code",
   "execution_count": 18,
   "metadata": {},
   "outputs": [
    {
     "name": "stdout",
     "output_type": "stream",
     "text": [
      "{'Player_id': 1001, 'Player_name': 'Alex', 'Player_score': 100, 'No_Matches': 6}\n"
     ]
    }
   ],
   "source": [
    "player_1 = {'Player_id':1001, 'Player_name':'Alex','Player_score':100,'No_Matches':6}\n",
    "\n",
    "print(player_1)"
   ]
  },
  {
   "cell_type": "code",
   "execution_count": 19,
   "metadata": {},
   "outputs": [
    {
     "name": "stdout",
     "output_type": "stream",
     "text": [
      "{'Player_id': 1001, 'Player_name': 'Alex', 'Player_score': 100, 'No_Matches': 6, 'Matches_Cleared': 5, 'Matches_Lost': 1}\n"
     ]
    }
   ],
   "source": [
    "player_1['Matches_Cleared']=5\n",
    "player_1['Matches_Lost']=1\n",
    "\n",
    "print(player_1)"
   ]
  },
  {
   "cell_type": "code",
   "execution_count": null,
   "metadata": {},
   "outputs": [],
   "source": []
  },
  {
   "cell_type": "code",
   "execution_count": 20,
   "metadata": {},
   "outputs": [
    {
     "name": "stdout",
     "output_type": "stream",
     "text": [
      "You have played total 6 matches and scored 100 points!!\n"
     ]
    }
   ],
   "source": [
    "player_matches = player_1['No_Matches']\n",
    "total_score = player_1['Player_score']\n",
    "\n",
    "print(f\"You have played total {player_matches} matches and scored {total_score} points!!\")\n"
   ]
  },
  {
   "cell_type": "code",
   "execution_count": null,
   "metadata": {},
   "outputs": [],
   "source": []
  },
  {
   "cell_type": "code",
   "execution_count": null,
   "metadata": {},
   "outputs": [],
   "source": [
    "## -- Modifying the values of a key -- ##"
   ]
  },
  {
   "cell_type": "code",
   "execution_count": 21,
   "metadata": {},
   "outputs": [
    {
     "name": "stdout",
     "output_type": "stream",
     "text": [
      "Total matches played: 6\n"
     ]
    }
   ],
   "source": [
    "print(f\"Total matches played: {player_1['No_Matches']}\")"
   ]
  },
  {
   "cell_type": "code",
   "execution_count": 22,
   "metadata": {},
   "outputs": [],
   "source": [
    "player_1['No_Matches']='10'"
   ]
  },
  {
   "cell_type": "code",
   "execution_count": 23,
   "metadata": {},
   "outputs": [
    {
     "name": "stdout",
     "output_type": "stream",
     "text": [
      "Total matches played: 10\n"
     ]
    }
   ],
   "source": [
    "print(f\"Total matches played: {player_1['No_Matches']}\")"
   ]
  },
  {
   "cell_type": "code",
   "execution_count": 24,
   "metadata": {},
   "outputs": [
    {
     "name": "stdout",
     "output_type": "stream",
     "text": [
      "{'Player_id': 1001, 'Player_name': 'Alex', 'Player_score': 100, 'No_Matches': '10', 'Matches_Cleared': 5, 'Matches_Lost': 1}\n"
     ]
    }
   ],
   "source": [
    "print(player_1)"
   ]
  },
  {
   "cell_type": "code",
   "execution_count": null,
   "metadata": {},
   "outputs": [],
   "source": []
  },
  {
   "cell_type": "code",
   "execution_count": null,
   "metadata": {},
   "outputs": [],
   "source": [
    "## -- Deleting the Key value pairs -- ##"
   ]
  },
  {
   "cell_type": "code",
   "execution_count": 25,
   "metadata": {},
   "outputs": [],
   "source": [
    "del player_1['Matches_Lost']"
   ]
  },
  {
   "cell_type": "code",
   "execution_count": 26,
   "metadata": {},
   "outputs": [
    {
     "name": "stdout",
     "output_type": "stream",
     "text": [
      "{'Player_id': 1001, 'Player_name': 'Alex', 'Player_score': 100, 'No_Matches': '10', 'Matches_Cleared': 5}\n"
     ]
    }
   ],
   "source": [
    "print(player_1)"
   ]
  }
 ],
 "metadata": {
  "kernelspec": {
   "display_name": "Python 3",
   "language": "python",
   "name": "python3"
  },
  "language_info": {
   "codemirror_mode": {
    "name": "ipython",
    "version": 3
   },
   "file_extension": ".py",
   "mimetype": "text/x-python",
   "name": "python",
   "nbconvert_exporter": "python",
   "pygments_lexer": "ipython3",
   "version": "3.7.6"
  }
 },
 "nbformat": 4,
 "nbformat_minor": 4
}
