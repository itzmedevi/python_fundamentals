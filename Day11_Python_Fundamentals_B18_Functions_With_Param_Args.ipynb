{
 "cells": [
  {
   "cell_type": "code",
   "execution_count": null,
   "metadata": {},
   "outputs": [],
   "source": [
    "## -- Using Parametes and Arguments -- ##"
   ]
  },
  {
   "cell_type": "code",
   "execution_count": 12,
   "metadata": {},
   "outputs": [],
   "source": [
    "def calc(msg_1, msg_2):\n",
    "    print(f\"{msg_1}, {msg_2}\")\n",
    "    print(f\"{msg_2} is back!!\")"
   ]
  },
  {
   "cell_type": "code",
   "execution_count": 14,
   "metadata": {},
   "outputs": [
    {
     "name": "stdout",
     "output_type": "stream",
     "text": [
      "hi, bobby\n",
      "bobby is back!!\n"
     ]
    }
   ],
   "source": [
    "calc('hi','bobby')"
   ]
  },
  {
   "cell_type": "code",
   "execution_count": 15,
   "metadata": {},
   "outputs": [],
   "source": [
    "def calc(msg_1, msg_2):\n",
    "    print(f\"{msg_1.title()}, {msg_2.title()}\")\n",
    "    print(f\"{msg_2.title()} is back!!\")"
   ]
  },
  {
   "cell_type": "code",
   "execution_count": 16,
   "metadata": {},
   "outputs": [
    {
     "name": "stdout",
     "output_type": "stream",
     "text": [
      "Hello, Cathy\n",
      "Cathy is back!!\n"
     ]
    }
   ],
   "source": [
    "calc('hello','cathy')"
   ]
  },
  {
   "cell_type": "code",
   "execution_count": 17,
   "metadata": {},
   "outputs": [
    {
     "name": "stdout",
     "output_type": "stream",
     "text": [
      "Welcome, Alex\n",
      "Alex is back!!\n",
      "Hi, Diana\n",
      "Diana is back!!\n",
      "Hello, Ella\n",
      "Ella is back!!\n"
     ]
    }
   ],
   "source": [
    "calc('welcome','alex')\n",
    "calc('hi','diana')\n",
    "calc('hello','ella')"
   ]
  },
  {
   "cell_type": "code",
   "execution_count": 21,
   "metadata": {},
   "outputs": [],
   "source": [
    "def calc(msg_1, msg_2):\n",
    "    print(f\"\\n{msg_1.title()}, {msg_2.title()}\")\n",
    "    print(f\"{msg_2.title()} is back!!\")"
   ]
  },
  {
   "cell_type": "code",
   "execution_count": 22,
   "metadata": {},
   "outputs": [
    {
     "name": "stdout",
     "output_type": "stream",
     "text": [
      "\n",
      "Welcome, Alex\n",
      "Alex is back!!\n",
      "\n",
      "Hi, Diana\n",
      "Diana is back!!\n",
      "\n",
      "Hello, Ella\n",
      "Ella is back!!\n"
     ]
    }
   ],
   "source": [
    "calc('welcome','alex')\n",
    "calc('hi','diana')\n",
    "calc('hello','ella')"
   ]
  },
  {
   "cell_type": "code",
   "execution_count": null,
   "metadata": {},
   "outputs": [],
   "source": []
  },
  {
   "cell_type": "code",
   "execution_count": null,
   "metadata": {},
   "outputs": [],
   "source": [
    "## -- Passing Keywrd Arguments -- ##"
   ]
  },
  {
   "cell_type": "code",
   "execution_count": 23,
   "metadata": {},
   "outputs": [
    {
     "name": "stdout",
     "output_type": "stream",
     "text": [
      "\n",
      "Hi, Alex\n",
      "Alex is back!!\n"
     ]
    }
   ],
   "source": [
    "calc(msg_1='hi',msg_2='alex')"
   ]
  },
  {
   "cell_type": "code",
   "execution_count": 24,
   "metadata": {},
   "outputs": [
    {
     "ename": "TypeError",
     "evalue": "calc() missing 1 required positional argument: 'msg_2'",
     "output_type": "error",
     "traceback": [
      "\u001b[0;31m---------------------------------------------------------------------------\u001b[0m",
      "\u001b[0;31mTypeError\u001b[0m                                 Traceback (most recent call last)",
      "\u001b[0;32m<ipython-input-24-520bc6331d9d>\u001b[0m in \u001b[0;36m<module>\u001b[0;34m\u001b[0m\n\u001b[0;32m----> 1\u001b[0;31m \u001b[0mcalc\u001b[0m\u001b[0;34m(\u001b[0m\u001b[0mmsg_1\u001b[0m\u001b[0;34m=\u001b[0m\u001b[0;34m'hi'\u001b[0m\u001b[0;34m)\u001b[0m\u001b[0;34m\u001b[0m\u001b[0;34m\u001b[0m\u001b[0m\n\u001b[0m",
      "\u001b[0;31mTypeError\u001b[0m: calc() missing 1 required positional argument: 'msg_2'"
     ]
    }
   ],
   "source": [
    "calc(msg_1='hi')"
   ]
  },
  {
   "cell_type": "code",
   "execution_count": null,
   "metadata": {},
   "outputs": [],
   "source": []
  },
  {
   "cell_type": "code",
   "execution_count": null,
   "metadata": {},
   "outputs": [],
   "source": [
    "## -- Default arguments -- ##"
   ]
  },
  {
   "cell_type": "code",
   "execution_count": 25,
   "metadata": {},
   "outputs": [
    {
     "ename": "SyntaxError",
     "evalue": "non-default argument follows default argument (<ipython-input-25-552e2e4f2c96>, line 1)",
     "output_type": "error",
     "traceback": [
      "\u001b[0;36m  File \u001b[0;32m\"<ipython-input-25-552e2e4f2c96>\"\u001b[0;36m, line \u001b[0;32m1\u001b[0m\n\u001b[0;31m    def calc(msg_1='hi', msg_2):\u001b[0m\n\u001b[0m            ^\u001b[0m\n\u001b[0;31mSyntaxError\u001b[0m\u001b[0;31m:\u001b[0m non-default argument follows default argument\n"
     ]
    }
   ],
   "source": [
    "def calc(msg_1='hi', msg_2):\n",
    "    print(f\"\\n{msg_1.title()}, {msg_2.title()}\")\n",
    "    print(f\"{msg_2.title()} is back!!\")"
   ]
  },
  {
   "cell_type": "code",
   "execution_count": 29,
   "metadata": {},
   "outputs": [],
   "source": [
    "def calc1(msg_1, msg_2='welcome'):\n",
    "    print(f\"\\n{msg_1.title()}, {msg_2.title()}\")\n",
    "    print(f\"{msg_1.title()} is back!!\")"
   ]
  },
  {
   "cell_type": "code",
   "execution_count": 30,
   "metadata": {},
   "outputs": [
    {
     "name": "stdout",
     "output_type": "stream",
     "text": [
      "\n",
      "Alex, Welcome\n",
      "Alex is back!!\n"
     ]
    }
   ],
   "source": [
    "calc1('alex')"
   ]
  },
  {
   "cell_type": "code",
   "execution_count": null,
   "metadata": {},
   "outputs": [],
   "source": []
  },
  {
   "cell_type": "code",
   "execution_count": 31,
   "metadata": {},
   "outputs": [
    {
     "name": "stdout",
     "output_type": "stream",
     "text": [
      "\n",
      "Hi, Frank\n",
      "Hi is back!!\n"
     ]
    }
   ],
   "source": [
    "calc('hi','frank')"
   ]
  },
  {
   "cell_type": "code",
   "execution_count": 32,
   "metadata": {},
   "outputs": [
    {
     "name": "stdout",
     "output_type": "stream",
     "text": [
      "\n",
      "Hi, Alex\n",
      "Hi is back!!\n"
     ]
    }
   ],
   "source": [
    "calc1('hi','alex')"
   ]
  }
 ],
 "metadata": {
  "kernelspec": {
   "display_name": "Python 3",
   "language": "python",
   "name": "python3"
  },
  "language_info": {
   "codemirror_mode": {
    "name": "ipython",
    "version": 3
   },
   "file_extension": ".py",
   "mimetype": "text/x-python",
   "name": "python",
   "nbconvert_exporter": "python",
   "pygments_lexer": "ipython3",
   "version": "3.7.6"
  }
 },
 "nbformat": 4,
 "nbformat_minor": 4
}
